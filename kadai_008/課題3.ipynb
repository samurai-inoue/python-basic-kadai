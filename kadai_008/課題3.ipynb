{
  "nbformat": 4,
  "nbformat_minor": 0,
  "metadata": {
    "colab": {
      "provenance": []
    },
    "kernelspec": {
      "name": "python3",
      "display_name": "Python 3"
    },
    "language_info": {
      "name": "python"
    }
  },
  "cells": [
    {
      "cell_type": "code",
      "execution_count": 128,
      "metadata": {
        "colab": {
          "base_uri": "https://localhost:8080/"
        },
        "id": "zhb73nnITVNr",
        "outputId": "29d4d1e6-c251-4680-971f-924f90e5ab4b"
      },
      "outputs": [
        {
          "output_type": "stream",
          "name": "stdout",
          "text": [
            "表示されたランダムな数字は:\n",
            "0\n",
            "結果は:\n",
            "FizzBuzz\n"
          ]
        }
      ],
      "source": [
        "import random\n",
        "\n",
        "var = random.randint(0,9)\n",
        "\n",
        "print(f\"表示されたランダムな数字は:\\n{var}\")\n",
        "\n",
        "if  var%3 == 0 and var%5 == 0:\n",
        "  print(\"結果は:\\nFizzBuzz\") #3と5の両方で割り切れるとき\n",
        "elif var%5 == 0:\n",
        "  print(\"結果は:\\nBuzz\") #5で割り切れるとき\n",
        "elif var%3 == 0:\n",
        "  print(\"結果は:\\nFizz\") #3で割り切れるとき\n",
        "else:\n",
        "  print(\"結果は:\\n\" + str(var))"
      ]
    }
  ]
}