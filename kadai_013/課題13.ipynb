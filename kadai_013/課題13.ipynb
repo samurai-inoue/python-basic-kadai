{
  "nbformat": 4,
  "nbformat_minor": 0,
  "metadata": {
    "colab": {
      "provenance": []
    },
    "kernelspec": {
      "name": "python3",
      "display_name": "Python 3"
    },
    "language_info": {
      "name": "python"
    }
  },
  "cells": [
    {
      "cell_type": "code",
      "execution_count": 25,
      "metadata": {
        "colab": {
          "base_uri": "https://localhost:8080/"
        },
        "id": "18IEQLArey1P",
        "outputId": "11789345-78e7-4890-a1dc-1fc981300c14"
      },
      "outputs": [
        {
          "output_type": "stream",
          "name": "stdout",
          "text": [
            "121.0円です\n"
          ]
        }
      ],
      "source": [
        "def add_syouhinkounyuu(kingaku, syouhizei):\n",
        "    total = kingaku + (kingaku * syouhizei / 100)\n",
        "    return total\n",
        "\n",
        "result = add_syouhinkounyuu(110, 10)\n",
        "print(f\"{result}円です\")"
      ]
    }
  ]
}