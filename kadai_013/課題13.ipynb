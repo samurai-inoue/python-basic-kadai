{
  "nbformat": 4,
  "nbformat_minor": 0,
  "metadata": {
    "colab": {
      "provenance": []
    },
    "kernelspec": {
      "name": "python3",
      "display_name": "Python 3"
    },
    "language_info": {
      "name": "python"
    }
  },
  "cells": [
    {
      "cell_type": "code",
      "execution_count": 23,
      "metadata": {
        "colab": {
          "base_uri": "https://localhost:8080/"
        },
        "id": "18IEQLArey1P",
        "outputId": "f20c406d-fbd0-427d-8775-fce7252a6162"
      },
      "outputs": [
        {
          "output_type": "stream",
          "name": "stdout",
          "text": [
            "120円です\n"
          ]
        }
      ],
      "source": [
        "def add_syouhinkounyuu(kingaku, syouhizei):\n",
        "    total = kingaku + syouhizei\n",
        "    return total\n",
        "\n",
        "result = add_syouhinkounyuu(110, 10)\n",
        "print(f\"{result}円です\")"
      ]
    }
  ]
}