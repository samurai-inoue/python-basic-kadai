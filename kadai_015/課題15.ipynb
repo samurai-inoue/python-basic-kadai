{
  "nbformat": 4,
  "nbformat_minor": 0,
  "metadata": {
    "colab": {
      "provenance": []
    },
    "kernelspec": {
      "name": "python3",
      "display_name": "Python 3"
    },
    "language_info": {
      "name": "python"
    }
  },
  "cells": [
    {
      "cell_type": "code",
      "execution_count": 5,
      "metadata": {
        "colab": {
          "base_uri": "https://localhost:8080/"
        },
        "id": "1lyReUumo50w",
        "outputId": "b31a32ce-1a2a-495f-e81b-98d813d69783"
      },
      "outputs": [
        {
          "output_type": "stream",
          "name": "stdout",
          "text": [
            "侍太朗\n",
            "30\n"
          ]
        }
      ],
      "source": [
        "class Human:\n",
        "    def __init__(self):\n",
        "      self.name = \"\"\n",
        "      self.age = \"\"\n",
        "\n",
        "    def set_printinfo(self, name, age):\n",
        "      self.name = name\n",
        "      self.age = age\n",
        "\n",
        "    def show_age(self):\n",
        "      print(self.name)\n",
        "      print(self.age)\n",
        "\n",
        "printinfo = Human()\n",
        "\n",
        "printinfo.set_printinfo(\"侍太朗\", 30)\n",
        "printinfo.show_age()\n"
      ]
    }
  ]
}