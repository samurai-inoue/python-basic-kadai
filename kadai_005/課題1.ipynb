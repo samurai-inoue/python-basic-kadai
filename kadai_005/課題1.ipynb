{
  "nbformat": 4,
  "nbformat_minor": 0,
  "metadata": {
    "colab": {
      "provenance": []
    },
    "kernelspec": {
      "name": "python3",
      "display_name": "Python 3"
    },
    "language_info": {
      "name": "python"
    }
  },
  "cells": [
    {
      "cell_type": "code",
      "execution_count": 23,
      "metadata": {
        "colab": {
          "base_uri": "https://localhost:8080/"
        },
        "id": "aWae57_B03Hq",
        "outputId": "2c5eda0c-5f1d-43cc-bd95-afc525436328"
      },
      "outputs": [
        {
          "output_type": "stream",
          "name": "stdout",
          "text": [
            "台形の面積 : (10 + 20) × 5 ÷ 2 = 75.0cm²\n"
          ]
        }
      ],
      "source": [
        "uwabe = 10\n",
        "kahen = 20\n",
        "takasa = 5\n",
        "\n",
        "area = (uwabe + kahen) * takasa / 2\n",
        "\n",
        "print(f\"台形の面積 : ({uwabe} + {kahen}) × {takasa} ÷ 2 = {area}cm²\")\n",
        "\n"
      ]
    }
  ]
}