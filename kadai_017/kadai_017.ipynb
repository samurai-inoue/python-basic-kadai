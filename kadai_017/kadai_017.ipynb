{
  "nbformat": 4,
  "nbformat_minor": 0,
  "metadata": {
    "colab": {
      "provenance": []
    },
    "kernelspec": {
      "name": "python3",
      "display_name": "Python 3"
    },
    "language_info": {
      "name": "python"
    }
  },
  "cells": [
    {
      "cell_type": "code",
      "execution_count": 20,
      "metadata": {
        "colab": {
          "base_uri": "https://localhost:8080/"
        },
        "id": "YYfHzKS-3AcG",
        "outputId": "8fcf28a9-c53d-40c9-8b06-8f5dad75730a"
      },
      "outputs": [
        {
          "output_type": "stream",
          "name": "stdout",
          "text": [
            "太朗さんは大人です。\n",
            "花子さんは大人ではありません。\n",
            "二郎さんは大人です。\n",
            "三郎さんは大人です。\n",
            "一郎さんは大人ではありません。\n"
          ]
        }
      ],
      "source": [
        "class Human:\n",
        "  def __init__(self, name, age):\n",
        "    self.name = name\n",
        "    self.age = age\n",
        "\n",
        "  def check_adult(self):\n",
        "     if self.age >= 20:\n",
        "       print(f\"{self.name}さんは大人です。\")\n",
        "     else:\n",
        "       print(f\"{self.name}さんは大人ではありません。\")\n",
        "\n",
        "people = [\n",
        "  Human(\"太朗\", 25),\n",
        "  Human(\"花子\", 18),\n",
        "  Human(\"二郎\", 30),\n",
        "  Human(\"三郎\", 35),\n",
        "  Human(\"一郎\", 13)\n",
        "]\n",
        "\n",
        "for person in people:\n",
        "    person.check_adult()\n",
        "\n"
      ]
    }
  ]
}