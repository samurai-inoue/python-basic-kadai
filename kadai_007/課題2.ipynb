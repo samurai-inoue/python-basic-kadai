{
  "nbformat": 4,
  "nbformat_minor": 0,
  "metadata": {
    "colab": {
      "provenance": []
    },
    "kernelspec": {
      "name": "python3",
      "display_name": "Python 3"
    },
    "language_info": {
      "name": "python"
    }
  },
  "cells": [
    {
      "cell_type": "code",
      "execution_count": 8,
      "metadata": {
        "colab": {
          "base_uri": "https://localhost:8080/"
        },
        "id": "aPWe_vEYQkzt",
        "outputId": "c60f9776-2395-4592-f979-94dbde781f62"
      },
      "outputs": [
        {
          "output_type": "stream",
          "name": "stdout",
          "text": [
            "水曜日は晴れです\n",
            "水曜日は晴れです\n"
          ]
        }
      ],
      "source": [
        "array = [\"月曜日は晴れです\" , \"火曜日は雨です\" , \"水曜日は晴れです\" , \"木曜日は晴れです\" , \"金曜日は曇りです\" , \"土曜日は曇りのち雨です\" , \"日曜日は雷雨です\"]\n",
        "dictionary = {\"mon\": \"晴れ\" , \"tue\": \"雨\" , \"wed\": \"晴れ\" , \"thu\": \"晴れ\" , \"fri\": \"曇り\" , \"sat\": \"曇りのち雨\" , \"sun\": \"豪雨\"}\n",
        "\n",
        "print(array[2])\n",
        "\n",
        "print(\"水曜日は\" + dictionary[\"wed\"] + \"です\")"
      ]
    }
  ]
}